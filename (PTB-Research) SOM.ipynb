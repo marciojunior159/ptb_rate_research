{
 "cells": [
  {
   "cell_type": "markdown",
   "metadata": {
    "id": "9ipLAvhTRXCQ"
   },
   "source": [
    "# Self-Organising Maps\n",
    "\n",
    "Author: `Márcio Lopes Jr` \n",
    "\n",
    "*Master's student of `Computer Engineering, Intelligent Information Processing` at UFRN-Natal*."
   ]
  },
  {
   "cell_type": "markdown",
   "metadata": {},
   "source": [
    "## Libraries"
   ]
  },
  {
   "cell_type": "code",
   "execution_count": 1,
   "metadata": {
    "id": "yy9TsWcXq66W"
   },
   "outputs": [],
   "source": [
    "# Data tools\n",
    "import pandas as pd\n",
    "import numpy as np\n",
    "import os\n",
    "from tqdm import tqdm\n",
    "import pylab\n",
    "\n",
    "# Clustering\n",
    "from minisom import MiniSom\n",
    "from scipy.cluster.hierarchy import dendrogram, linkage, cut_tree\n",
    "from sklearn.decomposition import PCA\n",
    "from sklearn.preprocessing import MinMaxScaler, PowerTransformer\n",
    "from sklearn.metrics import davies_bouldin_score\n",
    "from sklearn.manifold import TSNE\n",
    "from dynamicTreeCut import cutreeHybrid\n",
    "from scipy.spatial.distance import pdist"
   ]
  },
  {
   "cell_type": "markdown",
   "metadata": {
    "id": "JtYlhx-6RTst",
    "tags": []
   },
   "source": [
    "## Data Loading and Preprocessing"
   ]
  },
  {
   "cell_type": "code",
   "execution_count": 10,
   "metadata": {},
   "outputs": [],
   "source": [
    "# Files subfolder\n",
    "folder_name = 'files'\n",
    "\n",
    "df = pd.read_csv(f\"{folder_name}/A0.csv\").set_index('cd_ibge')"
   ]
  },
  {
   "cell_type": "code",
   "execution_count": 11,
   "metadata": {
    "id": "jm0P6UyHp3kq"
   },
   "outputs": [],
   "source": [
    "# Removing outliers\n",
    "lower, upper = df.ptb_rate.mean() - (df.ptb_rate.std()*3), df.ptb_rate.mean() + (df.ptb_rate.std()*3)\n",
    "df = df[(df.ptb_rate > lower) & (df.ptb_rate < upper)]\n",
    "\n",
    "# Normalisation\n",
    "yeojohnson = PowerTransformer()\n",
    "minmax = MinMaxScaler()\n",
    "sample = df.copy()\n",
    "sample[:] = minmax.fit_transform(yeojohnson.fit_transform(sample))\n",
    "simpler = sample.drop(columns=['ptb_rate', 'early_ptb_rate', 'extr_ptb_rate'])\n",
    "\n",
    "# Reducing dimensionality with PCA\n",
    "pca = PCA(n_components=0.95)\n",
    "pca.fit(simpler)\n",
    "pca_sample = pd.DataFrame(pca.transform(simpler))\n",
    "pca_sample.index = simpler.index"
   ]
  },
  {
   "cell_type": "markdown",
   "metadata": {
    "id": "Obhui6X2uvsH",
    "tags": []
   },
   "source": [
    "## SOM Parameters\n",
    "\n",
    "1. Calculation of ideal SOM map size."
   ]
  },
  {
   "cell_type": "code",
   "execution_count": 13,
   "metadata": {
    "id": "BIbawHuEjh68"
   },
   "outputs": [
    {
     "name": "stdout",
     "output_type": "stream",
     "text": [
      "371.78622890042607\n",
      "20\n"
     ]
    }
   ],
   "source": [
    "P = sample.shape[0]\n",
    "M = (5*np.sqrt(P))\n",
    "\n",
    "print(M)\n",
    "print(1+int(np.sqrt(M)))\n",
    "\n",
    "Mh, Mv = 1+int(np.sqrt(M)), 1+int(np.sqrt(M))"
   ]
  },
  {
   "cell_type": "markdown",
   "metadata": {},
   "source": [
    "2. Parameters configurations to test for SOM network"
   ]
  },
  {
   "cell_type": "code",
   "execution_count": 14,
   "metadata": {},
   "outputs": [],
   "source": [
    "import itertools\n",
    "\n",
    "sigma = list(range(2, 6))\n",
    "lr = [.1]\n",
    "neighbourhood = ['gaussian', 'triangle', 'bubble']\n",
    "activation = ['manhattan', 'euclidean', 'cosine']\n",
    "base_sample = ['normal', 'pca_reduced']\n",
    "base_sample_dict = {'normal' : simpler, 'pca_reduced' : pca_sample}\n",
    "\n",
    "configs = list(itertools.product(neighbourhood, sigma, lr, activation, base_sample))"
   ]
  },
  {
   "cell_type": "markdown",
   "metadata": {
    "tags": []
   },
   "source": [
    "## SOM Training\n",
    "\n",
    "Steps for each configuration:\n",
    "1. Train network\n",
    "2. Get municipality classifications\n",
    "3. Cut hierarchical tree using Dynamic Cut\n",
    "4. Build and save info dataset"
   ]
  },
  {
   "cell_type": "code",
   "execution_count": 27,
   "metadata": {
    "scrolled": true
   },
   "outputs": [
    {
     "name": "stderr",
     "output_type": "stream",
     "text": [
      "  0%|                                                                                           | 0/72 [00:00<?, ?it/s]"
     ]
    },
    {
     "name": "stdout",
     "output_type": "stream",
     "text": [
      "..cutHeight not given, setting it to 25.184485612183064  ===>  99% of the (truncated) height range in dendro.\n"
     ]
    },
    {
     "name": "stderr",
     "output_type": "stream",
     "text": [
      "  1%|█▏                                                                                 | 1/72 [00:28<34:00, 28.73s/it]"
     ]
    },
    {
     "name": "stdout",
     "output_type": "stream",
     "text": [
      "..cutHeight not given, setting it to 26.856397511506497  ===>  99% of the (truncated) height range in dendro.\n"
     ]
    },
    {
     "name": "stderr",
     "output_type": "stream",
     "text": [
      "  3%|██▎                                                                                | 2/72 [00:48<27:20, 23.43s/it]"
     ]
    },
    {
     "name": "stdout",
     "output_type": "stream",
     "text": [
      "..cutHeight not given, setting it to 25.78868465675447  ===>  99% of the (truncated) height range in dendro.\n"
     ]
    },
    {
     "name": "stderr",
     "output_type": "stream",
     "text": [
      "  4%|███▍                                                                               | 3/72 [01:15<29:03, 25.26s/it]"
     ]
    },
    {
     "name": "stdout",
     "output_type": "stream",
     "text": [
      "..cutHeight not given, setting it to 27.44421143534184  ===>  99% of the (truncated) height range in dendro.\n"
     ]
    },
    {
     "name": "stderr",
     "output_type": "stream",
     "text": [
      "  6%|████▌                                                                              | 4/72 [01:35<26:19, 23.22s/it]"
     ]
    },
    {
     "name": "stdout",
     "output_type": "stream",
     "text": [
      "..cutHeight not given, setting it to 27.453924695842527  ===>  99% of the (truncated) height range in dendro.\n"
     ]
    },
    {
     "name": "stderr",
     "output_type": "stream",
     "text": [
      "  7%|█████▊                                                                             | 5/72 [02:10<30:23, 27.22s/it]"
     ]
    },
    {
     "name": "stdout",
     "output_type": "stream",
     "text": [
      "..cutHeight not given, setting it to 26.264407705173827  ===>  99% of the (truncated) height range in dendro.\n"
     ]
    },
    {
     "name": "stderr",
     "output_type": "stream",
     "text": [
      "  8%|██████▉                                                                            | 6/72 [02:34<28:37, 26.03s/it]"
     ]
    },
    {
     "name": "stdout",
     "output_type": "stream",
     "text": [
      "..cutHeight not given, setting it to 23.282890517564272  ===>  99% of the (truncated) height range in dendro.\n"
     ]
    },
    {
     "name": "stderr",
     "output_type": "stream",
     "text": [
      " 10%|████████                                                                           | 7/72 [03:01<28:39, 26.45s/it]"
     ]
    },
    {
     "name": "stdout",
     "output_type": "stream",
     "text": [
      "..cutHeight not given, setting it to 25.303576635980843  ===>  99% of the (truncated) height range in dendro.\n"
     ]
    },
    {
     "name": "stderr",
     "output_type": "stream",
     "text": [
      " 11%|█████████▏                                                                         | 8/72 [03:22<26:21, 24.70s/it]"
     ]
    },
    {
     "name": "stdout",
     "output_type": "stream",
     "text": [
      "..cutHeight not given, setting it to 25.842064500968593  ===>  99% of the (truncated) height range in dendro.\n"
     ]
    },
    {
     "name": "stderr",
     "output_type": "stream",
     "text": [
      " 12%|██████████▍                                                                        | 9/72 [03:49<26:41, 25.41s/it]"
     ]
    },
    {
     "name": "stdout",
     "output_type": "stream",
     "text": [
      "..cutHeight not given, setting it to 26.753539570011466  ===>  99% of the (truncated) height range in dendro.\n"
     ]
    },
    {
     "name": "stderr",
     "output_type": "stream",
     "text": [
      " 14%|███████████▍                                                                      | 10/72 [04:09<24:27, 23.67s/it]"
     ]
    },
    {
     "name": "stdout",
     "output_type": "stream",
     "text": [
      "..cutHeight not given, setting it to 26.440415059302097  ===>  99% of the (truncated) height range in dendro.\n"
     ]
    },
    {
     "name": "stderr",
     "output_type": "stream",
     "text": [
      " 15%|████████████▌                                                                     | 11/72 [04:39<26:14, 25.81s/it]"
     ]
    },
    {
     "name": "stdout",
     "output_type": "stream",
     "text": [
      "..cutHeight not given, setting it to 27.811549903057646  ===>  99% of the (truncated) height range in dendro.\n"
     ]
    },
    {
     "name": "stderr",
     "output_type": "stream",
     "text": [
      " 17%|█████████████▋                                                                    | 12/72 [05:02<24:52, 24.87s/it]"
     ]
    },
    {
     "name": "stdout",
     "output_type": "stream",
     "text": [
      "..cutHeight not given, setting it to 21.99996461974802  ===>  99% of the (truncated) height range in dendro.\n"
     ]
    },
    {
     "name": "stderr",
     "output_type": "stream",
     "text": [
      " 18%|██████████████▊                                                                   | 13/72 [05:29<25:01, 25.45s/it]"
     ]
    },
    {
     "name": "stdout",
     "output_type": "stream",
     "text": [
      "..cutHeight not given, setting it to 24.61104847493356  ===>  99% of the (truncated) height range in dendro.\n"
     ]
    },
    {
     "name": "stderr",
     "output_type": "stream",
     "text": [
      " 19%|███████████████▉                                                                  | 14/72 [05:49<23:06, 23.91s/it]"
     ]
    },
    {
     "name": "stdout",
     "output_type": "stream",
     "text": [
      "..cutHeight not given, setting it to 25.919554873330764  ===>  99% of the (truncated) height range in dendro.\n"
     ]
    },
    {
     "name": "stderr",
     "output_type": "stream",
     "text": [
      " 21%|█████████████████                                                                 | 15/72 [06:16<23:30, 24.74s/it]"
     ]
    },
    {
     "name": "stdout",
     "output_type": "stream",
     "text": [
      "..cutHeight not given, setting it to 27.101446854798663  ===>  99% of the (truncated) height range in dendro.\n"
     ]
    },
    {
     "name": "stderr",
     "output_type": "stream",
     "text": [
      " 22%|██████████████████▏                                                               | 16/72 [06:36<21:52, 23.44s/it]"
     ]
    },
    {
     "name": "stdout",
     "output_type": "stream",
     "text": [
      "..cutHeight not given, setting it to 25.730875761327493  ===>  99% of the (truncated) height range in dendro.\n"
     ]
    },
    {
     "name": "stderr",
     "output_type": "stream",
     "text": [
      " 24%|███████████████████▎                                                              | 17/72 [07:09<24:11, 26.39s/it]"
     ]
    },
    {
     "name": "stdout",
     "output_type": "stream",
     "text": [
      "..cutHeight not given, setting it to 26.37702368346889  ===>  99% of the (truncated) height range in dendro.\n"
     ]
    },
    {
     "name": "stderr",
     "output_type": "stream",
     "text": [
      " 25%|████████████████████▌                                                             | 18/72 [07:33<23:07, 25.70s/it]"
     ]
    },
    {
     "name": "stdout",
     "output_type": "stream",
     "text": [
      "..cutHeight not given, setting it to 20.478060421264505  ===>  99% of the (truncated) height range in dendro.\n"
     ]
    },
    {
     "name": "stderr",
     "output_type": "stream",
     "text": [
      " 26%|█████████████████████▋                                                            | 19/72 [08:00<23:00, 26.05s/it]"
     ]
    },
    {
     "name": "stdout",
     "output_type": "stream",
     "text": [
      "..cutHeight not given, setting it to 24.779578477498255  ===>  99% of the (truncated) height range in dendro.\n"
     ]
    },
    {
     "name": "stderr",
     "output_type": "stream",
     "text": [
      " 28%|██████████████████████▊                                                           | 20/72 [08:19<20:44, 23.93s/it]"
     ]
    },
    {
     "name": "stdout",
     "output_type": "stream",
     "text": [
      "..cutHeight not given, setting it to 24.787224243486808  ===>  99% of the (truncated) height range in dendro.\n"
     ]
    },
    {
     "name": "stderr",
     "output_type": "stream",
     "text": [
      " 29%|███████████████████████▉                                                          | 21/72 [08:46<21:07, 24.86s/it]"
     ]
    },
    {
     "name": "stdout",
     "output_type": "stream",
     "text": [
      "..cutHeight not given, setting it to 24.8917106594971  ===>  99% of the (truncated) height range in dendro.\n"
     ]
    },
    {
     "name": "stderr",
     "output_type": "stream",
     "text": [
      " 31%|█████████████████████████                                                         | 22/72 [09:06<19:25, 23.31s/it]"
     ]
    },
    {
     "name": "stdout",
     "output_type": "stream",
     "text": [
      "..cutHeight not given, setting it to 25.556385470009314  ===>  99% of the (truncated) height range in dendro.\n"
     ]
    },
    {
     "name": "stderr",
     "output_type": "stream",
     "text": [
      " 32%|██████████████████████████▏                                                       | 23/72 [09:38<21:09, 25.92s/it]"
     ]
    },
    {
     "name": "stdout",
     "output_type": "stream",
     "text": [
      "..cutHeight not given, setting it to 26.17871912223738  ===>  99% of the (truncated) height range in dendro.\n"
     ]
    },
    {
     "name": "stderr",
     "output_type": "stream",
     "text": [
      " 33%|███████████████████████████▎                                                      | 24/72 [10:01<20:04, 25.09s/it]"
     ]
    },
    {
     "name": "stdout",
     "output_type": "stream",
     "text": [
      "..cutHeight not given, setting it to 24.277081584894322  ===>  99% of the (truncated) height range in dendro.\n"
     ]
    },
    {
     "name": "stderr",
     "output_type": "stream",
     "text": [
      " 35%|████████████████████████████▍                                                     | 25/72 [10:28<20:07, 25.68s/it]"
     ]
    },
    {
     "name": "stdout",
     "output_type": "stream",
     "text": [
      "..cutHeight not given, setting it to 25.678588282538797  ===>  99% of the (truncated) height range in dendro.\n"
     ]
    },
    {
     "name": "stderr",
     "output_type": "stream",
     "text": [
      " 36%|█████████████████████████████▌                                                    | 26/72 [10:46<17:45, 23.16s/it]"
     ]
    },
    {
     "name": "stdout",
     "output_type": "stream",
     "text": [
      "..cutHeight not given, setting it to 37.84748121708604  ===>  99% of the (truncated) height range in dendro.\n"
     ]
    },
    {
     "name": "stderr",
     "output_type": "stream",
     "text": [
      " 38%|██████████████████████████████▊                                                   | 27/72 [11:10<17:38, 23.52s/it]"
     ]
    },
    {
     "name": "stdout",
     "output_type": "stream",
     "text": [
      "..cutHeight not given, setting it to 25.756355002051475  ===>  99% of the (truncated) height range in dendro.\n"
     ]
    },
    {
     "name": "stderr",
     "output_type": "stream",
     "text": [
      " 39%|███████████████████████████████▉                                                  | 28/72 [11:27<15:48, 21.56s/it]"
     ]
    },
    {
     "name": "stdout",
     "output_type": "stream",
     "text": [
      "..cutHeight not given, setting it to 27.02878385529832  ===>  99% of the (truncated) height range in dendro.\n"
     ]
    },
    {
     "name": "stderr",
     "output_type": "stream",
     "text": [
      " 40%|█████████████████████████████████                                                 | 29/72 [11:56<17:03, 23.79s/it]"
     ]
    },
    {
     "name": "stdout",
     "output_type": "stream",
     "text": [
      "..cutHeight not given, setting it to 27.280184124150153  ===>  99% of the (truncated) height range in dendro.\n"
     ]
    },
    {
     "name": "stderr",
     "output_type": "stream",
     "text": [
      " 42%|██████████████████████████████████▏                                               | 30/72 [12:17<16:10, 23.10s/it]"
     ]
    },
    {
     "name": "stdout",
     "output_type": "stream",
     "text": [
      "..cutHeight not given, setting it to 25.517816010442544  ===>  99% of the (truncated) height range in dendro.\n"
     ]
    },
    {
     "name": "stderr",
     "output_type": "stream",
     "text": [
      " 43%|███████████████████████████████████▎                                              | 31/72 [12:43<16:14, 23.78s/it]"
     ]
    },
    {
     "name": "stdout",
     "output_type": "stream",
     "text": [
      "..cutHeight not given, setting it to 25.510941697569542  ===>  99% of the (truncated) height range in dendro.\n"
     ]
    },
    {
     "name": "stderr",
     "output_type": "stream",
     "text": [
      " 44%|████████████████████████████████████▍                                             | 32/72 [13:01<14:43, 22.08s/it]"
     ]
    },
    {
     "name": "stdout",
     "output_type": "stream",
     "text": [
      "..cutHeight not given, setting it to 27.058277853027974  ===>  99% of the (truncated) height range in dendro.\n"
     ]
    },
    {
     "name": "stderr",
     "output_type": "stream",
     "text": [
      " 46%|█████████████████████████████████████▌                                            | 33/72 [13:26<14:51, 22.86s/it]"
     ]
    },
    {
     "name": "stdout",
     "output_type": "stream",
     "text": [
      "..cutHeight not given, setting it to 27.87025132004357  ===>  99% of the (truncated) height range in dendro.\n"
     ]
    },
    {
     "name": "stderr",
     "output_type": "stream",
     "text": [
      " 47%|██████████████████████████████████████▋                                           | 34/72 [13:43<13:31, 21.34s/it]"
     ]
    },
    {
     "name": "stdout",
     "output_type": "stream",
     "text": [
      "..cutHeight not given, setting it to 27.55468768964898  ===>  99% of the (truncated) height range in dendro.\n"
     ]
    },
    {
     "name": "stderr",
     "output_type": "stream",
     "text": [
      " 49%|███████████████████████████████████████▊                                          | 35/72 [14:13<14:42, 23.85s/it]"
     ]
    },
    {
     "name": "stdout",
     "output_type": "stream",
     "text": [
      "..cutHeight not given, setting it to 27.638681354848753  ===>  99% of the (truncated) height range in dendro.\n"
     ]
    },
    {
     "name": "stderr",
     "output_type": "stream",
     "text": [
      " 50%|█████████████████████████████████████████                                         | 36/72 [14:34<13:50, 23.08s/it]"
     ]
    },
    {
     "name": "stdout",
     "output_type": "stream",
     "text": [
      "..cutHeight not given, setting it to 22.90644121726371  ===>  99% of the (truncated) height range in dendro.\n"
     ]
    },
    {
     "name": "stderr",
     "output_type": "stream",
     "text": [
      " 51%|██████████████████████████████████████████▏                                       | 37/72 [14:59<13:41, 23.48s/it]"
     ]
    },
    {
     "name": "stdout",
     "output_type": "stream",
     "text": [
      "..cutHeight not given, setting it to 25.275338693846983  ===>  99% of the (truncated) height range in dendro.\n"
     ]
    },
    {
     "name": "stderr",
     "output_type": "stream",
     "text": [
      " 53%|███████████████████████████████████████████▎                                      | 38/72 [15:17<12:24, 21.90s/it]"
     ]
    },
    {
     "name": "stdout",
     "output_type": "stream",
     "text": [
      "..cutHeight not given, setting it to 26.6305610606565  ===>  99% of the (truncated) height range in dendro.\n"
     ]
    },
    {
     "name": "stderr",
     "output_type": "stream",
     "text": [
      " 54%|████████████████████████████████████████████▍                                     | 39/72 [15:41<12:26, 22.61s/it]"
     ]
    },
    {
     "name": "stdout",
     "output_type": "stream",
     "text": [
      "..cutHeight not given, setting it to 27.52990391498996  ===>  99% of the (truncated) height range in dendro.\n"
     ]
    },
    {
     "name": "stderr",
     "output_type": "stream",
     "text": [
      " 56%|█████████████████████████████████████████████▌                                    | 40/72 [15:59<11:17, 21.16s/it]"
     ]
    },
    {
     "name": "stdout",
     "output_type": "stream",
     "text": [
      "..cutHeight not given, setting it to 27.420183926716017  ===>  99% of the (truncated) height range in dendro.\n"
     ]
    },
    {
     "name": "stderr",
     "output_type": "stream",
     "text": [
      " 57%|██████████████████████████████████████████████▋                                   | 41/72 [16:28<12:04, 23.36s/it]"
     ]
    },
    {
     "name": "stdout",
     "output_type": "stream",
     "text": [
      "..cutHeight not given, setting it to 25.563001863833083  ===>  99% of the (truncated) height range in dendro.\n"
     ]
    },
    {
     "name": "stderr",
     "output_type": "stream",
     "text": [
      " 58%|███████████████████████████████████████████████▊                                  | 42/72 [16:48<11:17, 22.59s/it]"
     ]
    },
    {
     "name": "stdout",
     "output_type": "stream",
     "text": [
      "..cutHeight not given, setting it to 23.153529940739215  ===>  99% of the (truncated) height range in dendro.\n"
     ]
    },
    {
     "name": "stderr",
     "output_type": "stream",
     "text": [
      " 60%|████████████████████████████████████████████████▉                                 | 43/72 [17:14<11:17, 23.38s/it]"
     ]
    },
    {
     "name": "stdout",
     "output_type": "stream",
     "text": [
      "..cutHeight not given, setting it to 25.34002323931813  ===>  99% of the (truncated) height range in dendro.\n"
     ]
    },
    {
     "name": "stderr",
     "output_type": "stream",
     "text": [
      " 61%|██████████████████████████████████████████████████                                | 44/72 [17:32<10:10, 21.81s/it]"
     ]
    },
    {
     "name": "stdout",
     "output_type": "stream",
     "text": [
      "..cutHeight not given, setting it to 26.681873886541105  ===>  99% of the (truncated) height range in dendro.\n"
     ]
    },
    {
     "name": "stderr",
     "output_type": "stream",
     "text": [
      " 62%|███████████████████████████████████████████████████▎                              | 45/72 [17:57<10:18, 22.91s/it]"
     ]
    },
    {
     "name": "stdout",
     "output_type": "stream",
     "text": [
      "..cutHeight not given, setting it to 25.504624582838744  ===>  99% of the (truncated) height range in dendro.\n"
     ]
    },
    {
     "name": "stderr",
     "output_type": "stream",
     "text": [
      " 64%|████████████████████████████████████████████████████▍                             | 46/72 [18:16<09:20, 21.55s/it]"
     ]
    },
    {
     "name": "stdout",
     "output_type": "stream",
     "text": [
      "..cutHeight not given, setting it to 26.470388773534435  ===>  99% of the (truncated) height range in dendro.\n"
     ]
    },
    {
     "name": "stderr",
     "output_type": "stream",
     "text": [
      " 65%|█████████████████████████████████████████████████████▌                            | 47/72 [18:45<10:00, 24.01s/it]"
     ]
    },
    {
     "name": "stdout",
     "output_type": "stream",
     "text": [
      "..cutHeight not given, setting it to 26.36732029845657  ===>  99% of the (truncated) height range in dendro.\n"
     ]
    },
    {
     "name": "stderr",
     "output_type": "stream",
     "text": [
      " 67%|██████████████████████████████████████████████████████▋                           | 48/72 [19:06<09:16, 23.17s/it]"
     ]
    },
    {
     "name": "stdout",
     "output_type": "stream",
     "text": [
      "..cutHeight not given, setting it to 25.053051999440378  ===>  99% of the (truncated) height range in dendro.\n"
     ]
    },
    {
     "name": "stderr",
     "output_type": "stream",
     "text": [
      " 68%|███████████████████████████████████████████████████████▊                          | 49/72 [19:32<09:08, 23.86s/it]"
     ]
    },
    {
     "name": "stdout",
     "output_type": "stream",
     "text": [
      "..cutHeight not given, setting it to 26.879656686225385  ===>  99% of the (truncated) height range in dendro.\n"
     ]
    },
    {
     "name": "stderr",
     "output_type": "stream",
     "text": [
      " 69%|████████████████████████████████████████████████████████▉                         | 50/72 [19:50<08:06, 22.13s/it]"
     ]
    },
    {
     "name": "stdout",
     "output_type": "stream",
     "text": [
      "..cutHeight not given, setting it to 25.842820856068286  ===>  99% of the (truncated) height range in dendro.\n"
     ]
    },
    {
     "name": "stderr",
     "output_type": "stream",
     "text": [
      " 71%|██████████████████████████████████████████████████████████                        | 51/72 [20:16<08:10, 23.38s/it]"
     ]
    },
    {
     "name": "stdout",
     "output_type": "stream",
     "text": [
      "..cutHeight not given, setting it to 27.911566435652887  ===>  99% of the (truncated) height range in dendro.\n"
     ]
    },
    {
     "name": "stderr",
     "output_type": "stream",
     "text": [
      " 72%|███████████████████████████████████████████████████████████▏                      | 52/72 [20:34<07:15, 21.79s/it]"
     ]
    },
    {
     "name": "stdout",
     "output_type": "stream",
     "text": [
      "..cutHeight not given, setting it to 27.12719357284974  ===>  99% of the (truncated) height range in dendro.\n"
     ]
    },
    {
     "name": "stderr",
     "output_type": "stream",
     "text": [
      " 74%|████████████████████████████████████████████████████████████▎                     | 53/72 [21:06<07:47, 24.63s/it]"
     ]
    },
    {
     "name": "stdout",
     "output_type": "stream",
     "text": [
      "..cutHeight not given, setting it to 27.069652070162366  ===>  99% of the (truncated) height range in dendro.\n"
     ]
    },
    {
     "name": "stderr",
     "output_type": "stream",
     "text": [
      " 75%|█████████████████████████████████████████████████████████████▌                    | 54/72 [21:29<07:16, 24.24s/it]"
     ]
    },
    {
     "name": "stdout",
     "output_type": "stream",
     "text": [
      "..cutHeight not given, setting it to 27.41298839709344  ===>  99% of the (truncated) height range in dendro.\n"
     ]
    },
    {
     "name": "stderr",
     "output_type": "stream",
     "text": [
      " 76%|██████████████████████████████████████████████████████████████▋                   | 55/72 [21:54<06:55, 24.44s/it]"
     ]
    },
    {
     "name": "stdout",
     "output_type": "stream",
     "text": [
      "..cutHeight not given, setting it to 26.77710563953293  ===>  99% of the (truncated) height range in dendro.\n"
     ]
    },
    {
     "name": "stderr",
     "output_type": "stream",
     "text": [
      " 78%|███████████████████████████████████████████████████████████████▊                  | 56/72 [22:14<06:08, 23.00s/it]"
     ]
    },
    {
     "name": "stdout",
     "output_type": "stream",
     "text": [
      "..cutHeight not given, setting it to 27.07261695904779  ===>  99% of the (truncated) height range in dendro.\n"
     ]
    },
    {
     "name": "stderr",
     "output_type": "stream",
     "text": [
      " 79%|████████████████████████████████████████████████████████████████▉                 | 57/72 [22:40<06:02, 24.14s/it]"
     ]
    },
    {
     "name": "stdout",
     "output_type": "stream",
     "text": [
      "..cutHeight not given, setting it to 27.99071135079326  ===>  99% of the (truncated) height range in dendro.\n"
     ]
    },
    {
     "name": "stderr",
     "output_type": "stream",
     "text": [
      " 81%|██████████████████████████████████████████████████████████████████                | 58/72 [22:59<05:13, 22.37s/it]"
     ]
    },
    {
     "name": "stdout",
     "output_type": "stream",
     "text": [
      "..cutHeight not given, setting it to 26.768021218136976  ===>  99% of the (truncated) height range in dendro.\n"
     ]
    },
    {
     "name": "stderr",
     "output_type": "stream",
     "text": [
      " 82%|███████████████████████████████████████████████████████████████████▏              | 59/72 [23:30<05:24, 24.93s/it]"
     ]
    },
    {
     "name": "stdout",
     "output_type": "stream",
     "text": [
      "..cutHeight not given, setting it to 27.661494681135377  ===>  99% of the (truncated) height range in dendro.\n"
     ]
    },
    {
     "name": "stderr",
     "output_type": "stream",
     "text": [
      " 83%|████████████████████████████████████████████████████████████████████▎             | 60/72 [23:53<04:55, 24.62s/it]"
     ]
    },
    {
     "name": "stdout",
     "output_type": "stream",
     "text": [
      "..cutHeight not given, setting it to 24.734149466982338  ===>  99% of the (truncated) height range in dendro.\n"
     ]
    },
    {
     "name": "stderr",
     "output_type": "stream",
     "text": [
      " 85%|█████████████████████████████████████████████████████████████████████▍            | 61/72 [24:20<04:37, 25.25s/it]"
     ]
    },
    {
     "name": "stdout",
     "output_type": "stream",
     "text": [
      "..cutHeight not given, setting it to 25.564574956939957  ===>  99% of the (truncated) height range in dendro.\n"
     ]
    },
    {
     "name": "stderr",
     "output_type": "stream",
     "text": [
      " 86%|██████████████████████████████████████████████████████████████████████▌           | 62/72 [24:39<03:53, 23.31s/it]"
     ]
    },
    {
     "name": "stdout",
     "output_type": "stream",
     "text": [
      "..cutHeight not given, setting it to 26.305870114723504  ===>  99% of the (truncated) height range in dendro.\n"
     ]
    },
    {
     "name": "stderr",
     "output_type": "stream",
     "text": [
      " 88%|███████████████████████████████████████████████████████████████████████▊          | 63/72 [25:06<03:39, 24.35s/it]"
     ]
    },
    {
     "name": "stdout",
     "output_type": "stream",
     "text": [
      "..cutHeight not given, setting it to 26.725268193776035  ===>  99% of the (truncated) height range in dendro.\n"
     ]
    },
    {
     "name": "stderr",
     "output_type": "stream",
     "text": [
      " 89%|████████████████████████████████████████████████████████████████████████▉         | 64/72 [25:25<03:03, 22.96s/it]"
     ]
    },
    {
     "name": "stdout",
     "output_type": "stream",
     "text": [
      "..cutHeight not given, setting it to 26.664433522172512  ===>  99% of the (truncated) height range in dendro.\n"
     ]
    },
    {
     "name": "stderr",
     "output_type": "stream",
     "text": [
      " 90%|██████████████████████████████████████████████████████████████████████████        | 65/72 [25:57<02:59, 25.60s/it]"
     ]
    },
    {
     "name": "stdout",
     "output_type": "stream",
     "text": [
      "..cutHeight not given, setting it to 27.392669828629764  ===>  99% of the (truncated) height range in dendro.\n"
     ]
    },
    {
     "name": "stderr",
     "output_type": "stream",
     "text": [
      " 92%|███████████████████████████████████████████████████████████████████████████▏      | 66/72 [26:20<02:28, 24.74s/it]"
     ]
    },
    {
     "name": "stdout",
     "output_type": "stream",
     "text": [
      "..cutHeight not given, setting it to 24.129654891825837  ===>  99% of the (truncated) height range in dendro.\n"
     ]
    },
    {
     "name": "stderr",
     "output_type": "stream",
     "text": [
      " 93%|████████████████████████████████████████████████████████████████████████████▎     | 67/72 [26:46<02:06, 25.28s/it]"
     ]
    },
    {
     "name": "stdout",
     "output_type": "stream",
     "text": [
      "..cutHeight not given, setting it to 25.863598884428733  ===>  99% of the (truncated) height range in dendro.\n"
     ]
    },
    {
     "name": "stderr",
     "output_type": "stream",
     "text": [
      " 94%|█████████████████████████████████████████████████████████████████████████████▍    | 68/72 [27:06<01:34, 23.67s/it]"
     ]
    },
    {
     "name": "stdout",
     "output_type": "stream",
     "text": [
      "..cutHeight not given, setting it to 25.924860625130187  ===>  99% of the (truncated) height range in dendro.\n"
     ]
    },
    {
     "name": "stderr",
     "output_type": "stream",
     "text": [
      " 96%|██████████████████████████████████████████████████████████████████████████████▌   | 69/72 [27:38<01:18, 26.01s/it]"
     ]
    },
    {
     "name": "stdout",
     "output_type": "stream",
     "text": [
      "..cutHeight not given, setting it to 27.357584898359992  ===>  99% of the (truncated) height range in dendro.\n"
     ]
    },
    {
     "name": "stderr",
     "output_type": "stream",
     "text": [
      " 97%|███████████████████████████████████████████████████████████████████████████████▋  | 70/72 [28:03<00:51, 25.81s/it]"
     ]
    },
    {
     "name": "stdout",
     "output_type": "stream",
     "text": [
      "..cutHeight not given, setting it to 27.274258880457406  ===>  99% of the (truncated) height range in dendro.\n"
     ]
    },
    {
     "name": "stderr",
     "output_type": "stream",
     "text": [
      " 99%|████████████████████████████████████████████████████████████████████████████████▊ | 71/72 [28:38<00:28, 28.39s/it]"
     ]
    },
    {
     "name": "stdout",
     "output_type": "stream",
     "text": [
      "..cutHeight not given, setting it to 25.300301126898756  ===>  99% of the (truncated) height range in dendro.\n"
     ]
    },
    {
     "name": "stderr",
     "output_type": "stream",
     "text": [
      "100%|██████████████████████████████████████████████████████████████████████████████████| 72/72 [29:03<00:00, 24.22s/it]\n"
     ]
    }
   ],
   "source": [
    "classf = {}\n",
    "firstrun_flag = 0\n",
    "\n",
    "for c in tqdm(configs):\n",
    "    input = base_sample_dict[c[4]]\n",
    "\n",
    "    # Train SOM network\n",
    "    som = MiniSom(Mh, Mv, input.shape[1], sigma=c[1], learning_rate=c[2], activation_distance=c[3],\n",
    "                        neighborhood_function=c[0], topology='rectangular')\n",
    "    som.train_batch(input.to_numpy(), 100000, verbose=False)\n",
    "    \n",
    "    # Get results\n",
    "    winner_coordinates = np.array([som.winner(x) for x in input.to_numpy()]).T\n",
    "    cluster_index = np.ravel_multi_index(winner_coordinates, (Mh,Mv))\n",
    "    X = som.get_weights().reshape(Mh*Mv, len(input.columns))\n",
    "    Z = linkage(X, method='ward',)\n",
    "\n",
    "    # Results DataFrame\n",
    "    xdf = pd.DataFrame(X)\n",
    "    xdf.columns = input.columns\n",
    "    cindex_neu = xdf.index\n",
    "    \n",
    "    # Dynamic Cut\n",
    "    tdist = c[3] if c[3] != 'manhattan' else 'cityblock'\n",
    "    distances = pdist(X, tdist)\n",
    "    clusters = cutreeHybrid(Z, distances, verbose=0, minClusterSize=20)\n",
    "    transl = dict(zip([i for i in range(0,Z.shape[0]+1)], clusters['labels']))\n",
    "    cindex = pd.Series(cindex_neu).map(transl).values\n",
    "    cluster_mun = pd.Series(cluster_index).map(transl).values\n",
    "    \n",
    "    ## Map-specific data, used to generate SOM visualisations\n",
    "    # order = sample.groupby(cluster_mun)[['ptb_rate']].mean().sort_values(by='ptb_rate', ascending=False).index.to_list()\n",
    "    # marc_ = sample.groupby(cluster_mun)['ptb_rate'].mean()\n",
    "    # marc = sample.groupby(cluster_mun)['ptb_rate'].mean() > sample.ptb_rate.mean()\n",
    "    # xx, yy = som.get_euclidean_coordinates()\n",
    "    # umatrix = som.distance_map()\n",
    "    # weights = som.get_weights()\n",
    "    \n",
    "    # Build general dataset of municipal classification\n",
    "    resultados = sample.reset_index()[['cd_ibge']]\n",
    "    resultados['cell']     = cluster_index\n",
    "    resultados['major']    = cluster_mun\n",
    "    resultados['neig']     = c[0]\n",
    "    resultados['sigma']    = c[1]\n",
    "    resultados['lr']       = c[2]\n",
    "    resultados['dist']     = c[3]\n",
    "    resultados['dataset']  = c[4]\n",
    "    resultados['qe']       = som.quantization_error(input.to_numpy())\n",
    "    resultados['dbs']      = davies_bouldin_score(sample[~np.isnan(cluster_mun)], cluster_mun[~np.isnan(cluster_mun)])\n",
    "    \n",
    "    if firstrun_flag == 0:\n",
    "        resultados.to_csv(f'{folder_name}/som_cluster_output.csv')\n",
    "        firstrun_flag += 1\n",
    "    else:\n",
    "        resultados.to_csv(f'{folder_name}/som_cluster_output.csv', mode='a', header=False)\n",
    "        "
   ]
  }
 ],
 "metadata": {
  "colab": {
   "collapsed_sections": [
    "9ipLAvhTRXCQ",
    "wFbXMu52ubWZ",
    "JtYlhx-6RTst"
   ],
   "name": "(UFRN/Mestrado/Pesquisa) Teste de SOM - Versão Código.ipynb",
   "provenance": []
  },
  "kernelspec": {
   "display_name": "Python 3 (ipykernel)",
   "language": "python",
   "name": "python3"
  },
  "language_info": {
   "codemirror_mode": {
    "name": "ipython",
    "version": 3
   },
   "file_extension": ".py",
   "mimetype": "text/x-python",
   "name": "python",
   "nbconvert_exporter": "python",
   "pygments_lexer": "ipython3",
   "version": "3.9.7"
  }
 },
 "nbformat": 4,
 "nbformat_minor": 4
}
