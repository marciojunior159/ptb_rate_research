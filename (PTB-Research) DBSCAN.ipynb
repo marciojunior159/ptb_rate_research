{
 "cells": [
  {
   "cell_type": "markdown",
   "metadata": {},
   "source": [
    "# $DBSCAN$ and Plotting\n",
    "\n",
    "Author: `Márcio Lopes Jr` \n",
    "\n",
    "*Master's student of `Computer Engineering, Intelligent Information Processing` at UFRN-Natal*."
   ]
  },
  {
   "cell_type": "markdown",
   "metadata": {
    "tags": []
   },
   "source": [
    "## Libraries"
   ]
  },
  {
   "cell_type": "code",
   "execution_count": 2,
   "metadata": {},
   "outputs": [],
   "source": [
    "import matplotlib.pyplot as plt\n",
    "import matplotlib.font_manager as fm\n",
    "import pandas as pd\n",
    "import numpy as np\n",
    "from sklearn.cluster import DBSCAN\n",
    "from sklearn.decomposition import PCA\n",
    "from sklearn.manifold import TSNE\n",
    "from sklearn.preprocessing import MinMaxScaler, Normalizer, PowerTransformer\n",
    "import gc\n",
    "\n",
    "# Special file for plots\n",
    "from codes import *"
   ]
  },
  {
   "cell_type": "markdown",
   "metadata": {},
   "source": [
    "## Files"
   ]
  },
  {
   "cell_type": "code",
   "execution_count": 4,
   "metadata": {},
   "outputs": [],
   "source": [
    "# Info pastas\n",
    "folder_name = 'files'\n",
    "\n",
    "# Fontw Gill Sans\n",
    "gs_font = fm.FontProperties(fname=f'{folder_name}/Gill Sans.otf')\n",
    "\n",
    "# Cluster data and image folder\n",
    "path_cities_classes = f\"{folder_name}/km_cities_clusters.csv\"\n",
    "path_cluster_centres_dif = f\"{folder_name}/km_cluster_centres_dif.csv\"\n",
    "path_cluster_centres_abs = f\"{folder_name}/km_cluster_centres_abs.csv\"\n",
    "path_plots = f'{folder_name}/imagens'\n",
    "\n",
    "# Load cluster data\n",
    "centros_d = pd.read_csv(path_cluster_centres_dif, index_col=0).reset_index(drop=True)\n",
    "centros_t = pd.read_csv(path_cluster_centres_abs, index_col=0, header=None).reset_index(drop=True)\n",
    "centros_t.columns = centros_d.columns"
   ]
  },
  {
   "cell_type": "markdown",
   "metadata": {},
   "source": [
    "## Correlation+PCA Reduction"
   ]
  },
  {
   "cell_type": "code",
   "execution_count": 13,
   "metadata": {},
   "outputs": [],
   "source": [
    "# Creates correlation similarity matrix\n",
    "centros_pos = centros_d.iloc[:, :-3].copy()\n",
    "centros_pos[:] = MinMaxScaler().fit_transform(centros_pos)\n",
    "centros_corr = centros_pos.transpose().corr()\n",
    "centros_x_corr_copy = centros_corr.copy()\n",
    "# Orders matrix by similarity\n",
    "sorted_corr = cluster_corr(centros_corr)"
   ]
  },
  {
   "cell_type": "code",
   "execution_count": 17,
   "metadata": {},
   "outputs": [
    {
     "data": {
      "text/html": [
       "<div>\n",
       "<style scoped>\n",
       "    .dataframe tbody tr th:only-of-type {\n",
       "        vertical-align: middle;\n",
       "    }\n",
       "\n",
       "    .dataframe tbody tr th {\n",
       "        vertical-align: top;\n",
       "    }\n",
       "\n",
       "    .dataframe thead th {\n",
       "        text-align: right;\n",
       "    }\n",
       "</style>\n",
       "<table border=\"1\" class=\"dataframe\">\n",
       "  <thead>\n",
       "    <tr style=\"text-align: right;\">\n",
       "      <th></th>\n",
       "      <th>x0</th>\n",
       "      <th>x1</th>\n",
       "      <th>x2</th>\n",
       "      <th>x3</th>\n",
       "    </tr>\n",
       "  </thead>\n",
       "  <tbody>\n",
       "    <tr>\n",
       "      <th>0</th>\n",
       "      <td>-10.971114</td>\n",
       "      <td>0.653634</td>\n",
       "      <td>-1.232504</td>\n",
       "      <td>-0.838643</td>\n",
       "    </tr>\n",
       "    <tr>\n",
       "      <th>1</th>\n",
       "      <td>-11.030938</td>\n",
       "      <td>0.818901</td>\n",
       "      <td>-1.311083</td>\n",
       "      <td>-0.667198</td>\n",
       "    </tr>\n",
       "    <tr>\n",
       "      <th>2</th>\n",
       "      <td>-11.030938</td>\n",
       "      <td>0.818901</td>\n",
       "      <td>-1.311083</td>\n",
       "      <td>-0.667198</td>\n",
       "    </tr>\n",
       "    <tr>\n",
       "      <th>3</th>\n",
       "      <td>-10.856674</td>\n",
       "      <td>0.457702</td>\n",
       "      <td>-1.184021</td>\n",
       "      <td>-0.995153</td>\n",
       "    </tr>\n",
       "    <tr>\n",
       "      <th>4</th>\n",
       "      <td>-11.030938</td>\n",
       "      <td>0.818901</td>\n",
       "      <td>-1.311083</td>\n",
       "      <td>-0.667198</td>\n",
       "    </tr>\n",
       "  </tbody>\n",
       "</table>\n",
       "</div>"
      ],
      "text/plain": [
       "          x0        x1        x2        x3\n",
       "0 -10.971114  0.653634 -1.232504 -0.838643\n",
       "1 -11.030938  0.818901 -1.311083 -0.667198\n",
       "2 -11.030938  0.818901 -1.311083 -0.667198\n",
       "3 -10.856674  0.457702 -1.184021 -0.995153\n",
       "4 -11.030938  0.818901 -1.311083 -0.667198"
      ]
     },
     "execution_count": 17,
     "metadata": {},
     "output_type": "execute_result"
    }
   ],
   "source": [
    "PCA_CORR = PCA(0.99)\n",
    "pca_matrix = pd.DataFrame(PCA_CORR.fit_transform(centros_x_corr_copy))\n",
    "pca_matrix.columns = [f'x{i}' for i in range(len(pca_matrix.columns))]\n",
    "pca_matrix.head()"
   ]
  },
  {
   "cell_type": "markdown",
   "metadata": {
    "tags": []
   },
   "source": [
    "## PCA Validation of $k$-Means"
   ]
  },
  {
   "cell_type": "code",
   "execution_count": 18,
   "metadata": {},
   "outputs": [
    {
     "data": {
      "text/plain": [
       "-1    336\n",
       " 0    240\n",
       " 1    201\n",
       " 2    167\n",
       " 3    135\n",
       " 4    135\n",
       " 6     80\n",
       " 5     43\n",
       "dtype: int64"
      ]
     },
     "execution_count": 18,
     "metadata": {},
     "output_type": "execute_result"
    }
   ],
   "source": [
    "dbs = DBSCAN(eps=.06, min_samples=50, metric='euclidean')\n",
    "dbs.fit(MinMaxScaler().fit_transform(pca_matrix))\n",
    "\n",
    "clusters = np.unique(dbs.labels_)\n",
    "np.sort(clusters)\n",
    "\n",
    "pd.Series(dbs.labels_).value_counts()"
   ]
  },
  {
   "cell_type": "code",
   "execution_count": 19,
   "metadata": {},
   "outputs": [],
   "source": [
    "centros_d = pd.read_csv(path_cluster_centres_dif, index_col=0).reset_index(drop=True)\n",
    "centros_t = pd.read_csv(path_cluster_centres_abs, index_col=0, header=None).reset_index(drop=True)\n",
    "centros_t.columns = centros_d.columns\n",
    "\n",
    "centros_t['cluster_principal'] = dbs.labels_\n",
    "centros_t.loc[centros_t.cluster_principal == -1, 'cluster_principal'] = np.nan\n",
    "\n",
    "centros_d['cluster_principal'] = dbs.labels_\n",
    "centros_d.loc[centros_d.cluster_principal == -1, 'cluster_principal'] = np.nan"
   ]
  },
  {
   "cell_type": "code",
   "execution_count": 20,
   "metadata": {},
   "outputs": [
    {
     "data": {
      "text/plain": [
       "cluster_principal\n",
       "0.0    0.188830\n",
       "1.0    0.160629\n",
       "2.0    0.158978\n",
       "3.0    0.159312\n",
       "4.0    0.151271\n",
       "5.0    0.154251\n",
       "6.0    0.149504\n",
       "dtype: float64"
      ]
     },
     "execution_count": 20,
     "metadata": {},
     "output_type": "execute_result"
    }
   ],
   "source": [
    "centros_t.drop(columns=centros_t.loc[:,(centros_t.mean() > 1).values].columns[:-4])\\\n",
    ".groupby('cluster_principal').std().mean(axis=1)"
   ]
  }
 ],
 "metadata": {
  "kernelspec": {
   "display_name": "Python 3 (ipykernel)",
   "language": "python",
   "name": "python3"
  },
  "language_info": {
   "codemirror_mode": {
    "name": "ipython",
    "version": 3
   },
   "file_extension": ".py",
   "mimetype": "text/x-python",
   "name": "python",
   "nbconvert_exporter": "python",
   "pygments_lexer": "ipython3",
   "version": "3.9.7"
  }
 },
 "nbformat": 4,
 "nbformat_minor": 4
}
